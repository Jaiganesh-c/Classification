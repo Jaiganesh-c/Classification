{
  "nbformat": 4,
  "nbformat_minor": 0,
  "metadata": {
    "colab": {
      "name": "Parkinson_classification.ipynb",
      "provenance": []
    },
    "kernelspec": {
      "name": "python3",
      "display_name": "Python 3"
    }
  },
  "cells": [
    {
      "cell_type": "markdown",
      "metadata": {
        "id": "yRTgW9UcqQIE",
        "colab_type": "text"
      },
      "source": [
        "# Parkinson Disease Classification"
      ]
    },
    {
      "cell_type": "code",
      "metadata": {
        "id": "ur-KjLV01M0j",
        "colab_type": "code",
        "colab": {}
      },
      "source": [
        "import pandas as pd"
      ],
      "execution_count": 0,
      "outputs": []
    },
    {
      "cell_type": "code",
      "metadata": {
        "id": "ggOsupsT1R8a",
        "colab_type": "code",
        "colab": {}
      },
      "source": [
        "df=pd.read_csv('drive/My Drive/ReplicatedAcousticFeatures-ParkinsonDatabase.csv')"
      ],
      "execution_count": 0,
      "outputs": []
    },
    {
      "cell_type": "markdown",
      "metadata": {
        "id": "B8jBzeFxuYPY",
        "colab_type": "text"
      },
      "source": [
        "## Data Summary"
      ]
    },
    {
      "cell_type": "code",
      "metadata": {
        "id": "5j1wMIi31WyD",
        "colab_type": "code",
        "outputId": "58174e4f-4a44-49e2-c5d7-120d6cb0754f",
        "colab": {
          "base_uri": "https://localhost:8080/",
          "height": 226
        }
      },
      "source": [
        "df.head()"
      ],
      "execution_count": 21,
      "outputs": [
        {
          "output_type": "execute_result",
          "data": {
            "text/html": [
              "<div>\n",
              "<style scoped>\n",
              "    .dataframe tbody tr th:only-of-type {\n",
              "        vertical-align: middle;\n",
              "    }\n",
              "\n",
              "    .dataframe tbody tr th {\n",
              "        vertical-align: top;\n",
              "    }\n",
              "\n",
              "    .dataframe thead th {\n",
              "        text-align: right;\n",
              "    }\n",
              "</style>\n",
              "<table border=\"1\" class=\"dataframe\">\n",
              "  <thead>\n",
              "    <tr style=\"text-align: right;\">\n",
              "      <th></th>\n",
              "      <th>ID</th>\n",
              "      <th>Recording</th>\n",
              "      <th>Status</th>\n",
              "      <th>Gender</th>\n",
              "      <th>Jitter_rel</th>\n",
              "      <th>Jitter_abs</th>\n",
              "      <th>Jitter_RAP</th>\n",
              "      <th>Jitter_PPQ</th>\n",
              "      <th>Shim_loc</th>\n",
              "      <th>Shim_dB</th>\n",
              "      <th>Shim_APQ3</th>\n",
              "      <th>Shim_APQ5</th>\n",
              "      <th>Shi_APQ11</th>\n",
              "      <th>HNR05</th>\n",
              "      <th>HNR15</th>\n",
              "      <th>HNR25</th>\n",
              "      <th>HNR35</th>\n",
              "      <th>HNR38</th>\n",
              "      <th>RPDE</th>\n",
              "      <th>DFA</th>\n",
              "      <th>PPE</th>\n",
              "      <th>GNE</th>\n",
              "      <th>MFCC0</th>\n",
              "      <th>MFCC1</th>\n",
              "      <th>MFCC2</th>\n",
              "      <th>MFCC3</th>\n",
              "      <th>MFCC4</th>\n",
              "      <th>MFCC5</th>\n",
              "      <th>MFCC6</th>\n",
              "      <th>MFCC7</th>\n",
              "      <th>MFCC8</th>\n",
              "      <th>MFCC9</th>\n",
              "      <th>MFCC10</th>\n",
              "      <th>MFCC11</th>\n",
              "      <th>MFCC12</th>\n",
              "      <th>Delta0</th>\n",
              "      <th>Delta1</th>\n",
              "      <th>Delta2</th>\n",
              "      <th>Delta3</th>\n",
              "      <th>Delta4</th>\n",
              "      <th>Delta5</th>\n",
              "      <th>Delta6</th>\n",
              "      <th>Delta7</th>\n",
              "      <th>Delta8</th>\n",
              "      <th>Delta9</th>\n",
              "      <th>Delta10</th>\n",
              "      <th>Delta11</th>\n",
              "      <th>Delta12</th>\n",
              "    </tr>\n",
              "  </thead>\n",
              "  <tbody>\n",
              "    <tr>\n",
              "      <th>0</th>\n",
              "      <td>CONT-01</td>\n",
              "      <td>1</td>\n",
              "      <td>0</td>\n",
              "      <td>1</td>\n",
              "      <td>0.25546</td>\n",
              "      <td>0.000015</td>\n",
              "      <td>0.001467</td>\n",
              "      <td>0.001673</td>\n",
              "      <td>0.030256</td>\n",
              "      <td>0.26313</td>\n",
              "      <td>0.017463</td>\n",
              "      <td>0.019660</td>\n",
              "      <td>0.021882</td>\n",
              "      <td>59.437966</td>\n",
              "      <td>60.736249</td>\n",
              "      <td>71.882864</td>\n",
              "      <td>77.626729</td>\n",
              "      <td>77.538042</td>\n",
              "      <td>0.250433</td>\n",
              "      <td>0.599346</td>\n",
              "      <td>0.005397</td>\n",
              "      <td>0.900404</td>\n",
              "      <td>1.319502</td>\n",
              "      <td>1.336201</td>\n",
              "      <td>1.302408</td>\n",
              "      <td>1.329085</td>\n",
              "      <td>1.284922</td>\n",
              "      <td>1.209225</td>\n",
              "      <td>1.239354</td>\n",
              "      <td>1.277002</td>\n",
              "      <td>1.332503</td>\n",
              "      <td>1.347470</td>\n",
              "      <td>1.367540</td>\n",
              "      <td>1.402141</td>\n",
              "      <td>1.393809</td>\n",
              "      <td>1.397874</td>\n",
              "      <td>1.372464</td>\n",
              "      <td>1.390298</td>\n",
              "      <td>1.407701</td>\n",
              "      <td>1.417218</td>\n",
              "      <td>1.380352</td>\n",
              "      <td>1.420670</td>\n",
              "      <td>1.451240</td>\n",
              "      <td>1.440295</td>\n",
              "      <td>1.403678</td>\n",
              "      <td>1.405495</td>\n",
              "      <td>1.416705</td>\n",
              "      <td>1.354610</td>\n",
              "    </tr>\n",
              "    <tr>\n",
              "      <th>1</th>\n",
              "      <td>CONT-01</td>\n",
              "      <td>2</td>\n",
              "      <td>0</td>\n",
              "      <td>1</td>\n",
              "      <td>0.36964</td>\n",
              "      <td>0.000022</td>\n",
              "      <td>0.001932</td>\n",
              "      <td>0.002245</td>\n",
              "      <td>0.023146</td>\n",
              "      <td>0.20217</td>\n",
              "      <td>0.013010</td>\n",
              "      <td>0.014097</td>\n",
              "      <td>0.016828</td>\n",
              "      <td>59.838895</td>\n",
              "      <td>62.655599</td>\n",
              "      <td>74.378669</td>\n",
              "      <td>79.989228</td>\n",
              "      <td>80.269783</td>\n",
              "      <td>0.271445</td>\n",
              "      <td>0.581242</td>\n",
              "      <td>0.075617</td>\n",
              "      <td>0.887042</td>\n",
              "      <td>1.215251</td>\n",
              "      <td>1.221557</td>\n",
              "      <td>1.265419</td>\n",
              "      <td>1.187177</td>\n",
              "      <td>1.256340</td>\n",
              "      <td>1.246375</td>\n",
              "      <td>1.283629</td>\n",
              "      <td>1.302498</td>\n",
              "      <td>1.308008</td>\n",
              "      <td>1.316527</td>\n",
              "      <td>1.370643</td>\n",
              "      <td>1.373966</td>\n",
              "      <td>1.344655</td>\n",
              "      <td>1.302399</td>\n",
              "      <td>1.347680</td>\n",
              "      <td>1.365750</td>\n",
              "      <td>1.331232</td>\n",
              "      <td>1.227338</td>\n",
              "      <td>1.213377</td>\n",
              "      <td>1.352739</td>\n",
              "      <td>1.354242</td>\n",
              "      <td>1.365692</td>\n",
              "      <td>1.322870</td>\n",
              "      <td>1.314549</td>\n",
              "      <td>1.318999</td>\n",
              "      <td>1.323508</td>\n",
              "    </tr>\n",
              "    <tr>\n",
              "      <th>2</th>\n",
              "      <td>CONT-01</td>\n",
              "      <td>3</td>\n",
              "      <td>0</td>\n",
              "      <td>1</td>\n",
              "      <td>0.23514</td>\n",
              "      <td>0.000013</td>\n",
              "      <td>0.001353</td>\n",
              "      <td>0.001546</td>\n",
              "      <td>0.019338</td>\n",
              "      <td>0.16710</td>\n",
              "      <td>0.011049</td>\n",
              "      <td>0.012683</td>\n",
              "      <td>0.013038</td>\n",
              "      <td>57.293808</td>\n",
              "      <td>61.858336</td>\n",
              "      <td>73.665297</td>\n",
              "      <td>78.930502</td>\n",
              "      <td>79.033510</td>\n",
              "      <td>0.203531</td>\n",
              "      <td>0.600759</td>\n",
              "      <td>0.005283</td>\n",
              "      <td>0.889399</td>\n",
              "      <td>1.426075</td>\n",
              "      <td>1.220701</td>\n",
              "      <td>1.344188</td>\n",
              "      <td>1.346296</td>\n",
              "      <td>1.339797</td>\n",
              "      <td>1.334447</td>\n",
              "      <td>1.391798</td>\n",
              "      <td>1.349621</td>\n",
              "      <td>1.349904</td>\n",
              "      <td>1.340463</td>\n",
              "      <td>1.362594</td>\n",
              "      <td>1.313769</td>\n",
              "      <td>1.277938</td>\n",
              "      <td>1.312889</td>\n",
              "      <td>1.352442</td>\n",
              "      <td>1.243385</td>\n",
              "      <td>1.412304</td>\n",
              "      <td>1.324674</td>\n",
              "      <td>1.276088</td>\n",
              "      <td>1.429634</td>\n",
              "      <td>1.455996</td>\n",
              "      <td>1.368882</td>\n",
              "      <td>1.438053</td>\n",
              "      <td>1.388910</td>\n",
              "      <td>1.305469</td>\n",
              "      <td>1.305402</td>\n",
              "    </tr>\n",
              "    <tr>\n",
              "      <th>3</th>\n",
              "      <td>CONT-02</td>\n",
              "      <td>1</td>\n",
              "      <td>0</td>\n",
              "      <td>0</td>\n",
              "      <td>0.29320</td>\n",
              "      <td>0.000017</td>\n",
              "      <td>0.001105</td>\n",
              "      <td>0.001444</td>\n",
              "      <td>0.024716</td>\n",
              "      <td>0.20892</td>\n",
              "      <td>0.014525</td>\n",
              "      <td>0.015696</td>\n",
              "      <td>0.018330</td>\n",
              "      <td>62.179573</td>\n",
              "      <td>68.678205</td>\n",
              "      <td>79.839984</td>\n",
              "      <td>84.367682</td>\n",
              "      <td>84.252430</td>\n",
              "      <td>0.261360</td>\n",
              "      <td>0.625216</td>\n",
              "      <td>0.030518</td>\n",
              "      <td>0.875984</td>\n",
              "      <td>1.495235</td>\n",
              "      <td>1.602983</td>\n",
              "      <td>1.572715</td>\n",
              "      <td>1.498323</td>\n",
              "      <td>1.561722</td>\n",
              "      <td>1.590510</td>\n",
              "      <td>1.626319</td>\n",
              "      <td>1.645811</td>\n",
              "      <td>1.666730</td>\n",
              "      <td>1.618487</td>\n",
              "      <td>1.493691</td>\n",
              "      <td>1.459040</td>\n",
              "      <td>1.383606</td>\n",
              "      <td>1.379629</td>\n",
              "      <td>1.217517</td>\n",
              "      <td>1.309647</td>\n",
              "      <td>1.501200</td>\n",
              "      <td>1.534170</td>\n",
              "      <td>1.323993</td>\n",
              "      <td>1.496442</td>\n",
              "      <td>1.472926</td>\n",
              "      <td>1.643177</td>\n",
              "      <td>1.551286</td>\n",
              "      <td>1.638346</td>\n",
              "      <td>1.604008</td>\n",
              "      <td>1.621456</td>\n",
              "    </tr>\n",
              "    <tr>\n",
              "      <th>4</th>\n",
              "      <td>CONT-02</td>\n",
              "      <td>2</td>\n",
              "      <td>0</td>\n",
              "      <td>0</td>\n",
              "      <td>0.23075</td>\n",
              "      <td>0.000015</td>\n",
              "      <td>0.001073</td>\n",
              "      <td>0.001404</td>\n",
              "      <td>0.013119</td>\n",
              "      <td>0.11607</td>\n",
              "      <td>0.006461</td>\n",
              "      <td>0.008385</td>\n",
              "      <td>0.011037</td>\n",
              "      <td>67.534024</td>\n",
              "      <td>74.976858</td>\n",
              "      <td>85.727420</td>\n",
              "      <td>91.033967</td>\n",
              "      <td>91.145189</td>\n",
              "      <td>0.222069</td>\n",
              "      <td>0.602493</td>\n",
              "      <td>0.035602</td>\n",
              "      <td>0.902206</td>\n",
              "      <td>1.516959</td>\n",
              "      <td>1.581687</td>\n",
              "      <td>1.542668</td>\n",
              "      <td>1.613747</td>\n",
              "      <td>1.501956</td>\n",
              "      <td>1.258557</td>\n",
              "      <td>1.385013</td>\n",
              "      <td>1.452518</td>\n",
              "      <td>1.498049</td>\n",
              "      <td>1.421549</td>\n",
              "      <td>1.557644</td>\n",
              "      <td>1.187218</td>\n",
              "      <td>1.576015</td>\n",
              "      <td>1.252247</td>\n",
              "      <td>1.577338</td>\n",
              "      <td>1.583072</td>\n",
              "      <td>1.508468</td>\n",
              "      <td>1.334511</td>\n",
              "      <td>1.610694</td>\n",
              "      <td>1.685021</td>\n",
              "      <td>1.417614</td>\n",
              "      <td>1.574895</td>\n",
              "      <td>1.640088</td>\n",
              "      <td>1.533666</td>\n",
              "      <td>1.297536</td>\n",
              "      <td>1.382023</td>\n",
              "    </tr>\n",
              "  </tbody>\n",
              "</table>\n",
              "</div>"
            ],
            "text/plain": [
              "        ID  Recording  Status  Gender  ...    Delta9   Delta10   Delta11   Delta12\n",
              "0  CONT-01          1       0       1  ...  1.403678  1.405495  1.416705  1.354610\n",
              "1  CONT-01          2       0       1  ...  1.322870  1.314549  1.318999  1.323508\n",
              "2  CONT-01          3       0       1  ...  1.438053  1.388910  1.305469  1.305402\n",
              "3  CONT-02          1       0       0  ...  1.551286  1.638346  1.604008  1.621456\n",
              "4  CONT-02          2       0       0  ...  1.640088  1.533666  1.297536  1.382023\n",
              "\n",
              "[5 rows x 48 columns]"
            ]
          },
          "metadata": {
            "tags": []
          },
          "execution_count": 21
        }
      ]
    },
    {
      "cell_type": "code",
      "metadata": {
        "id": "NgIwYyR71bgU",
        "colab_type": "code",
        "outputId": "d9335b4c-6c84-4904-c14d-57da20d50498",
        "colab": {
          "base_uri": "https://localhost:8080/",
          "height": 226
        }
      },
      "source": [
        "df.isna().head()"
      ],
      "execution_count": 22,
      "outputs": [
        {
          "output_type": "execute_result",
          "data": {
            "text/html": [
              "<div>\n",
              "<style scoped>\n",
              "    .dataframe tbody tr th:only-of-type {\n",
              "        vertical-align: middle;\n",
              "    }\n",
              "\n",
              "    .dataframe tbody tr th {\n",
              "        vertical-align: top;\n",
              "    }\n",
              "\n",
              "    .dataframe thead th {\n",
              "        text-align: right;\n",
              "    }\n",
              "</style>\n",
              "<table border=\"1\" class=\"dataframe\">\n",
              "  <thead>\n",
              "    <tr style=\"text-align: right;\">\n",
              "      <th></th>\n",
              "      <th>ID</th>\n",
              "      <th>Recording</th>\n",
              "      <th>Status</th>\n",
              "      <th>Gender</th>\n",
              "      <th>Jitter_rel</th>\n",
              "      <th>Jitter_abs</th>\n",
              "      <th>Jitter_RAP</th>\n",
              "      <th>Jitter_PPQ</th>\n",
              "      <th>Shim_loc</th>\n",
              "      <th>Shim_dB</th>\n",
              "      <th>Shim_APQ3</th>\n",
              "      <th>Shim_APQ5</th>\n",
              "      <th>Shi_APQ11</th>\n",
              "      <th>HNR05</th>\n",
              "      <th>HNR15</th>\n",
              "      <th>HNR25</th>\n",
              "      <th>HNR35</th>\n",
              "      <th>HNR38</th>\n",
              "      <th>RPDE</th>\n",
              "      <th>DFA</th>\n",
              "      <th>PPE</th>\n",
              "      <th>GNE</th>\n",
              "      <th>MFCC0</th>\n",
              "      <th>MFCC1</th>\n",
              "      <th>MFCC2</th>\n",
              "      <th>MFCC3</th>\n",
              "      <th>MFCC4</th>\n",
              "      <th>MFCC5</th>\n",
              "      <th>MFCC6</th>\n",
              "      <th>MFCC7</th>\n",
              "      <th>MFCC8</th>\n",
              "      <th>MFCC9</th>\n",
              "      <th>MFCC10</th>\n",
              "      <th>MFCC11</th>\n",
              "      <th>MFCC12</th>\n",
              "      <th>Delta0</th>\n",
              "      <th>Delta1</th>\n",
              "      <th>Delta2</th>\n",
              "      <th>Delta3</th>\n",
              "      <th>Delta4</th>\n",
              "      <th>Delta5</th>\n",
              "      <th>Delta6</th>\n",
              "      <th>Delta7</th>\n",
              "      <th>Delta8</th>\n",
              "      <th>Delta9</th>\n",
              "      <th>Delta10</th>\n",
              "      <th>Delta11</th>\n",
              "      <th>Delta12</th>\n",
              "    </tr>\n",
              "  </thead>\n",
              "  <tbody>\n",
              "    <tr>\n",
              "      <th>0</th>\n",
              "      <td>False</td>\n",
              "      <td>False</td>\n",
              "      <td>False</td>\n",
              "      <td>False</td>\n",
              "      <td>False</td>\n",
              "      <td>False</td>\n",
              "      <td>False</td>\n",
              "      <td>False</td>\n",
              "      <td>False</td>\n",
              "      <td>False</td>\n",
              "      <td>False</td>\n",
              "      <td>False</td>\n",
              "      <td>False</td>\n",
              "      <td>False</td>\n",
              "      <td>False</td>\n",
              "      <td>False</td>\n",
              "      <td>False</td>\n",
              "      <td>False</td>\n",
              "      <td>False</td>\n",
              "      <td>False</td>\n",
              "      <td>False</td>\n",
              "      <td>False</td>\n",
              "      <td>False</td>\n",
              "      <td>False</td>\n",
              "      <td>False</td>\n",
              "      <td>False</td>\n",
              "      <td>False</td>\n",
              "      <td>False</td>\n",
              "      <td>False</td>\n",
              "      <td>False</td>\n",
              "      <td>False</td>\n",
              "      <td>False</td>\n",
              "      <td>False</td>\n",
              "      <td>False</td>\n",
              "      <td>False</td>\n",
              "      <td>False</td>\n",
              "      <td>False</td>\n",
              "      <td>False</td>\n",
              "      <td>False</td>\n",
              "      <td>False</td>\n",
              "      <td>False</td>\n",
              "      <td>False</td>\n",
              "      <td>False</td>\n",
              "      <td>False</td>\n",
              "      <td>False</td>\n",
              "      <td>False</td>\n",
              "      <td>False</td>\n",
              "      <td>False</td>\n",
              "    </tr>\n",
              "    <tr>\n",
              "      <th>1</th>\n",
              "      <td>False</td>\n",
              "      <td>False</td>\n",
              "      <td>False</td>\n",
              "      <td>False</td>\n",
              "      <td>False</td>\n",
              "      <td>False</td>\n",
              "      <td>False</td>\n",
              "      <td>False</td>\n",
              "      <td>False</td>\n",
              "      <td>False</td>\n",
              "      <td>False</td>\n",
              "      <td>False</td>\n",
              "      <td>False</td>\n",
              "      <td>False</td>\n",
              "      <td>False</td>\n",
              "      <td>False</td>\n",
              "      <td>False</td>\n",
              "      <td>False</td>\n",
              "      <td>False</td>\n",
              "      <td>False</td>\n",
              "      <td>False</td>\n",
              "      <td>False</td>\n",
              "      <td>False</td>\n",
              "      <td>False</td>\n",
              "      <td>False</td>\n",
              "      <td>False</td>\n",
              "      <td>False</td>\n",
              "      <td>False</td>\n",
              "      <td>False</td>\n",
              "      <td>False</td>\n",
              "      <td>False</td>\n",
              "      <td>False</td>\n",
              "      <td>False</td>\n",
              "      <td>False</td>\n",
              "      <td>False</td>\n",
              "      <td>False</td>\n",
              "      <td>False</td>\n",
              "      <td>False</td>\n",
              "      <td>False</td>\n",
              "      <td>False</td>\n",
              "      <td>False</td>\n",
              "      <td>False</td>\n",
              "      <td>False</td>\n",
              "      <td>False</td>\n",
              "      <td>False</td>\n",
              "      <td>False</td>\n",
              "      <td>False</td>\n",
              "      <td>False</td>\n",
              "    </tr>\n",
              "    <tr>\n",
              "      <th>2</th>\n",
              "      <td>False</td>\n",
              "      <td>False</td>\n",
              "      <td>False</td>\n",
              "      <td>False</td>\n",
              "      <td>False</td>\n",
              "      <td>False</td>\n",
              "      <td>False</td>\n",
              "      <td>False</td>\n",
              "      <td>False</td>\n",
              "      <td>False</td>\n",
              "      <td>False</td>\n",
              "      <td>False</td>\n",
              "      <td>False</td>\n",
              "      <td>False</td>\n",
              "      <td>False</td>\n",
              "      <td>False</td>\n",
              "      <td>False</td>\n",
              "      <td>False</td>\n",
              "      <td>False</td>\n",
              "      <td>False</td>\n",
              "      <td>False</td>\n",
              "      <td>False</td>\n",
              "      <td>False</td>\n",
              "      <td>False</td>\n",
              "      <td>False</td>\n",
              "      <td>False</td>\n",
              "      <td>False</td>\n",
              "      <td>False</td>\n",
              "      <td>False</td>\n",
              "      <td>False</td>\n",
              "      <td>False</td>\n",
              "      <td>False</td>\n",
              "      <td>False</td>\n",
              "      <td>False</td>\n",
              "      <td>False</td>\n",
              "      <td>False</td>\n",
              "      <td>False</td>\n",
              "      <td>False</td>\n",
              "      <td>False</td>\n",
              "      <td>False</td>\n",
              "      <td>False</td>\n",
              "      <td>False</td>\n",
              "      <td>False</td>\n",
              "      <td>False</td>\n",
              "      <td>False</td>\n",
              "      <td>False</td>\n",
              "      <td>False</td>\n",
              "      <td>False</td>\n",
              "    </tr>\n",
              "    <tr>\n",
              "      <th>3</th>\n",
              "      <td>False</td>\n",
              "      <td>False</td>\n",
              "      <td>False</td>\n",
              "      <td>False</td>\n",
              "      <td>False</td>\n",
              "      <td>False</td>\n",
              "      <td>False</td>\n",
              "      <td>False</td>\n",
              "      <td>False</td>\n",
              "      <td>False</td>\n",
              "      <td>False</td>\n",
              "      <td>False</td>\n",
              "      <td>False</td>\n",
              "      <td>False</td>\n",
              "      <td>False</td>\n",
              "      <td>False</td>\n",
              "      <td>False</td>\n",
              "      <td>False</td>\n",
              "      <td>False</td>\n",
              "      <td>False</td>\n",
              "      <td>False</td>\n",
              "      <td>False</td>\n",
              "      <td>False</td>\n",
              "      <td>False</td>\n",
              "      <td>False</td>\n",
              "      <td>False</td>\n",
              "      <td>False</td>\n",
              "      <td>False</td>\n",
              "      <td>False</td>\n",
              "      <td>False</td>\n",
              "      <td>False</td>\n",
              "      <td>False</td>\n",
              "      <td>False</td>\n",
              "      <td>False</td>\n",
              "      <td>False</td>\n",
              "      <td>False</td>\n",
              "      <td>False</td>\n",
              "      <td>False</td>\n",
              "      <td>False</td>\n",
              "      <td>False</td>\n",
              "      <td>False</td>\n",
              "      <td>False</td>\n",
              "      <td>False</td>\n",
              "      <td>False</td>\n",
              "      <td>False</td>\n",
              "      <td>False</td>\n",
              "      <td>False</td>\n",
              "      <td>False</td>\n",
              "    </tr>\n",
              "    <tr>\n",
              "      <th>4</th>\n",
              "      <td>False</td>\n",
              "      <td>False</td>\n",
              "      <td>False</td>\n",
              "      <td>False</td>\n",
              "      <td>False</td>\n",
              "      <td>False</td>\n",
              "      <td>False</td>\n",
              "      <td>False</td>\n",
              "      <td>False</td>\n",
              "      <td>False</td>\n",
              "      <td>False</td>\n",
              "      <td>False</td>\n",
              "      <td>False</td>\n",
              "      <td>False</td>\n",
              "      <td>False</td>\n",
              "      <td>False</td>\n",
              "      <td>False</td>\n",
              "      <td>False</td>\n",
              "      <td>False</td>\n",
              "      <td>False</td>\n",
              "      <td>False</td>\n",
              "      <td>False</td>\n",
              "      <td>False</td>\n",
              "      <td>False</td>\n",
              "      <td>False</td>\n",
              "      <td>False</td>\n",
              "      <td>False</td>\n",
              "      <td>False</td>\n",
              "      <td>False</td>\n",
              "      <td>False</td>\n",
              "      <td>False</td>\n",
              "      <td>False</td>\n",
              "      <td>False</td>\n",
              "      <td>False</td>\n",
              "      <td>False</td>\n",
              "      <td>False</td>\n",
              "      <td>False</td>\n",
              "      <td>False</td>\n",
              "      <td>False</td>\n",
              "      <td>False</td>\n",
              "      <td>False</td>\n",
              "      <td>False</td>\n",
              "      <td>False</td>\n",
              "      <td>False</td>\n",
              "      <td>False</td>\n",
              "      <td>False</td>\n",
              "      <td>False</td>\n",
              "      <td>False</td>\n",
              "    </tr>\n",
              "  </tbody>\n",
              "</table>\n",
              "</div>"
            ],
            "text/plain": [
              "      ID  Recording  Status  Gender  ...  Delta9  Delta10  Delta11  Delta12\n",
              "0  False      False   False   False  ...   False    False    False    False\n",
              "1  False      False   False   False  ...   False    False    False    False\n",
              "2  False      False   False   False  ...   False    False    False    False\n",
              "3  False      False   False   False  ...   False    False    False    False\n",
              "4  False      False   False   False  ...   False    False    False    False\n",
              "\n",
              "[5 rows x 48 columns]"
            ]
          },
          "metadata": {
            "tags": []
          },
          "execution_count": 22
        }
      ]
    },
    {
      "cell_type": "code",
      "metadata": {
        "id": "q6XJtb3A3lPo",
        "colab_type": "code",
        "outputId": "8edfb29d-8912-400f-f372-cdb67946eb5a",
        "colab": {
          "base_uri": "https://localhost:8080/",
          "height": 35
        }
      },
      "source": [
        "df.shape"
      ],
      "execution_count": 23,
      "outputs": [
        {
          "output_type": "execute_result",
          "data": {
            "text/plain": [
              "(240, 48)"
            ]
          },
          "metadata": {
            "tags": []
          },
          "execution_count": 23
        }
      ]
    },
    {
      "cell_type": "code",
      "metadata": {
        "id": "4yqy5EGi3pIe",
        "colab_type": "code",
        "colab": {
          "base_uri": "https://localhost:8080/",
          "height": 1000
        },
        "outputId": "34dfbc7a-3611-4d17-dc2d-ebe729e9eba6"
      },
      "source": [
        "df.describe"
      ],
      "execution_count": 24,
      "outputs": [
        {
          "output_type": "execute_result",
          "data": {
            "text/plain": [
              "<bound method NDFrame.describe of           ID  Recording  Status  Gender  ...    Delta9   Delta10   Delta11   Delta12\n",
              "0    CONT-01          1       0       1  ...  1.403678  1.405495  1.416705  1.354610\n",
              "1    CONT-01          2       0       1  ...  1.322870  1.314549  1.318999  1.323508\n",
              "2    CONT-01          3       0       1  ...  1.438053  1.388910  1.305469  1.305402\n",
              "3    CONT-02          1       0       0  ...  1.551286  1.638346  1.604008  1.621456\n",
              "4    CONT-02          2       0       0  ...  1.640088  1.533666  1.297536  1.382023\n",
              "5    CONT-02          3       0       0  ...  1.625396  1.651655  1.652845  1.427623\n",
              "6    CONT-03          1       0       1  ...  1.345959  1.741863  1.828781  1.655604\n",
              "7    CONT-03          2       0       1  ...  1.526714  1.647910  1.662981  1.609652\n",
              "8    CONT-03          3       0       1  ...  1.447470  1.354798  1.585025  1.334293\n",
              "9    CONT-04          1       0       1  ...  1.579521  1.374581  1.550638  1.572821\n",
              "10   CONT-04          2       0       1  ...  1.555589  1.195330  1.555142  1.695319\n",
              "11   CONT-04          3       0       1  ...  1.773099  1.529496  1.760172  1.478536\n",
              "12   CONT-05          1       0       0  ...  1.385665  1.426097  1.515076  1.305066\n",
              "13   CONT-05          2       0       0  ...  1.464589  1.375371  1.358033  1.662816\n",
              "14   CONT-05          3       0       0  ...  1.545591  1.316806  1.377798  1.687215\n",
              "15   CONT-06          1       0       1  ...  1.429692  1.331124  1.408082  1.359682\n",
              "16   CONT-06          2       0       1  ...  1.529541  1.409931  1.477325  1.433082\n",
              "17   CONT-06          3       0       1  ...  1.385652  1.360055  1.347033  1.456393\n",
              "18   CONT-07          1       0       0  ...  1.514977  1.612537  1.790012  1.649126\n",
              "19   CONT-07          2       0       0  ...  1.538804  1.536038  1.534848  1.552188\n",
              "20   CONT-07          3       0       0  ...  1.384959  1.583498  1.585200  1.367714\n",
              "21   CONT-08          1       0       1  ...  1.232599  1.300023  1.449626  1.347967\n",
              "22   CONT-08          2       0       1  ...  1.371790  1.371215  1.369660  1.372909\n",
              "23   CONT-08          3       0       1  ...  1.353650  1.369063  1.418174  1.410891\n",
              "24   CONT-09          1       0       0  ...  1.167745  1.090225  1.192167  1.166356\n",
              "25   CONT-09          2       0       0  ...  1.153229  1.117209  1.131372  1.157657\n",
              "26   CONT-09          3       0       0  ...  1.189878  1.397790  1.192140  1.290360\n",
              "27   CONT-10          1       0       1  ...  1.554592  1.326794  1.744678  1.472641\n",
              "28   CONT-10          2       0       1  ...  1.551055  1.484267  1.430811  1.559882\n",
              "29   CONT-10          3       0       1  ...  1.555264  1.442938  1.545945  1.264987\n",
              "..       ...        ...     ...     ...  ...       ...       ...       ...       ...\n",
              "210  PARK-31          1       1       0  ...  0.964643  0.954084  0.959123  0.932800\n",
              "211  PARK-31          2       1       0  ...  0.919143  0.931645  0.898172  0.894168\n",
              "212  PARK-31          3       1       0  ...  1.003376  1.035153  1.017106  1.090185\n",
              "213  PARK-32          1       1       1  ...  1.155604  1.150562  1.073716  1.112418\n",
              "214  PARK-32          2       1       1  ...  0.933879  0.971573  0.971044  0.949646\n",
              "215  PARK-32          3       1       1  ...  0.939558  0.941699  0.955907  0.978104\n",
              "216  PARK-33          1       1       0  ...  1.395136  1.244808  1.259062  1.416756\n",
              "217  PARK-33          2       1       0  ...  1.370712  1.354827  1.234042  1.354205\n",
              "218  PARK-33          3       1       0  ...  1.294418  1.281608  1.229182  1.323646\n",
              "219  PARK-34          1       1       0  ...  1.289807  1.303666  1.230058  1.261765\n",
              "220  PARK-34          2       1       0  ...  1.153094  1.334767  1.315212  1.289802\n",
              "221  PARK-34          3       1       0  ...  1.335195  1.259004  1.295890  1.306841\n",
              "222  PARK-35          1       1       0  ...  1.220904  1.282132  1.207483  1.272485\n",
              "223  PARK-35          2       1       0  ...  1.232082  1.144215  1.200696  1.255815\n",
              "224  PARK-35          3       1       0  ...  1.037411  0.777012  1.228689  1.229909\n",
              "225  PARK-36          1       1       1  ...  1.006428  1.063529  1.076191  1.077543\n",
              "226  PARK-36          2       1       1  ...  0.811942  0.870165  0.771713  0.748411\n",
              "227  PARK-36          3       1       1  ...  0.969025  1.040096  0.992941  0.974730\n",
              "228  PARK-37          1       1       1  ...  1.268139  1.390144  1.204407  1.194025\n",
              "229  PARK-37          2       1       1  ...  1.071987  1.261145  1.029926  1.238320\n",
              "230  PARK-37          3       1       1  ...  1.372089  1.355118  1.337585  1.391346\n",
              "231  PARK-38          1       1       1  ...  1.408256  1.343068  1.425475  1.226760\n",
              "232  PARK-38          2       1       1  ...  1.077585  0.959991  1.010571  0.997155\n",
              "233  PARK-38          3       1       1  ...  1.114905  1.149443  1.117868  1.091054\n",
              "234  PARK-39          1       1       0  ...  1.110160  1.098608  1.112941  1.097243\n",
              "235  PARK-39          2       1       0  ...  1.167076  1.132436  1.107824  1.109144\n",
              "236  PARK-39          3       1       0  ...  1.126667  1.158444  1.096073  1.141835\n",
              "237  PARK-40          1       1       0  ...  1.343193  1.374330  1.383364  1.456409\n",
              "238  PARK-40          2       1       0  ...  1.361937  1.331923  1.423062  1.307353\n",
              "239  PARK-40          3       1       0  ...  1.304214  1.395653  1.315691  1.422534\n",
              "\n",
              "[240 rows x 48 columns]>"
            ]
          },
          "metadata": {
            "tags": []
          },
          "execution_count": 24
        }
      ]
    },
    {
      "cell_type": "code",
      "metadata": {
        "id": "A7ZUZOXq3zEi",
        "colab_type": "code",
        "colab": {
          "base_uri": "https://localhost:8080/",
          "height": 907
        },
        "outputId": "e0575a4c-5461-4a22-effe-3e8ef086c8ed"
      },
      "source": [
        "df.isnull().sum()"
      ],
      "execution_count": 25,
      "outputs": [
        {
          "output_type": "execute_result",
          "data": {
            "text/plain": [
              "ID            0\n",
              "Recording     0\n",
              "Status        0\n",
              "Gender        0\n",
              "Jitter_rel    0\n",
              "Jitter_abs    0\n",
              "Jitter_RAP    0\n",
              "Jitter_PPQ    0\n",
              "Shim_loc      0\n",
              "Shim_dB       0\n",
              "Shim_APQ3     0\n",
              "Shim_APQ5     0\n",
              "Shi_APQ11     0\n",
              "HNR05         0\n",
              "HNR15         0\n",
              "HNR25         0\n",
              "HNR35         0\n",
              "HNR38         0\n",
              "RPDE          0\n",
              "DFA           0\n",
              "PPE           0\n",
              "GNE           0\n",
              "MFCC0         0\n",
              "MFCC1         0\n",
              "MFCC2         0\n",
              "MFCC3         0\n",
              "MFCC4         0\n",
              "MFCC5         0\n",
              "MFCC6         0\n",
              "MFCC7         0\n",
              "MFCC8         0\n",
              "MFCC9         0\n",
              "MFCC10        0\n",
              "MFCC11        0\n",
              "MFCC12        0\n",
              "Delta0        0\n",
              "Delta1        0\n",
              "Delta2        0\n",
              "Delta3        0\n",
              "Delta4        0\n",
              "Delta5        0\n",
              "Delta6        0\n",
              "Delta7        0\n",
              "Delta8        0\n",
              "Delta9        0\n",
              "Delta10       0\n",
              "Delta11       0\n",
              "Delta12       0\n",
              "dtype: int64"
            ]
          },
          "metadata": {
            "tags": []
          },
          "execution_count": 25
        }
      ]
    },
    {
      "cell_type": "code",
      "metadata": {
        "id": "9NCkCRk5uFg5",
        "colab_type": "code",
        "colab": {
          "base_uri": "https://localhost:8080/",
          "height": 907
        },
        "outputId": "fa53391e-b27f-4297-c91d-2d7b091aa5c8"
      },
      "source": [
        "df.isna().sum()"
      ],
      "execution_count": 26,
      "outputs": [
        {
          "output_type": "execute_result",
          "data": {
            "text/plain": [
              "ID            0\n",
              "Recording     0\n",
              "Status        0\n",
              "Gender        0\n",
              "Jitter_rel    0\n",
              "Jitter_abs    0\n",
              "Jitter_RAP    0\n",
              "Jitter_PPQ    0\n",
              "Shim_loc      0\n",
              "Shim_dB       0\n",
              "Shim_APQ3     0\n",
              "Shim_APQ5     0\n",
              "Shi_APQ11     0\n",
              "HNR05         0\n",
              "HNR15         0\n",
              "HNR25         0\n",
              "HNR35         0\n",
              "HNR38         0\n",
              "RPDE          0\n",
              "DFA           0\n",
              "PPE           0\n",
              "GNE           0\n",
              "MFCC0         0\n",
              "MFCC1         0\n",
              "MFCC2         0\n",
              "MFCC3         0\n",
              "MFCC4         0\n",
              "MFCC5         0\n",
              "MFCC6         0\n",
              "MFCC7         0\n",
              "MFCC8         0\n",
              "MFCC9         0\n",
              "MFCC10        0\n",
              "MFCC11        0\n",
              "MFCC12        0\n",
              "Delta0        0\n",
              "Delta1        0\n",
              "Delta2        0\n",
              "Delta3        0\n",
              "Delta4        0\n",
              "Delta5        0\n",
              "Delta6        0\n",
              "Delta7        0\n",
              "Delta8        0\n",
              "Delta9        0\n",
              "Delta10       0\n",
              "Delta11       0\n",
              "Delta12       0\n",
              "dtype: int64"
            ]
          },
          "metadata": {
            "tags": []
          },
          "execution_count": 26
        }
      ]
    },
    {
      "cell_type": "code",
      "metadata": {
        "id": "wF-dMp9wYwWG",
        "colab_type": "code",
        "outputId": "6f2868e0-e62e-41c8-a89a-59c4742e6e46",
        "colab": {
          "base_uri": "https://localhost:8080/",
          "height": 980
        }
      },
      "source": [
        "df.info()"
      ],
      "execution_count": 27,
      "outputs": [
        {
          "output_type": "stream",
          "text": [
            "<class 'pandas.core.frame.DataFrame'>\n",
            "RangeIndex: 240 entries, 0 to 239\n",
            "Data columns (total 48 columns):\n",
            "ID            240 non-null object\n",
            "Recording     240 non-null int64\n",
            "Status        240 non-null int64\n",
            "Gender        240 non-null int64\n",
            "Jitter_rel    240 non-null float64\n",
            "Jitter_abs    240 non-null float64\n",
            "Jitter_RAP    240 non-null float64\n",
            "Jitter_PPQ    240 non-null float64\n",
            "Shim_loc      240 non-null float64\n",
            "Shim_dB       240 non-null float64\n",
            "Shim_APQ3     240 non-null float64\n",
            "Shim_APQ5     240 non-null float64\n",
            "Shi_APQ11     240 non-null float64\n",
            "HNR05         240 non-null float64\n",
            "HNR15         240 non-null float64\n",
            "HNR25         240 non-null float64\n",
            "HNR35         240 non-null float64\n",
            "HNR38         240 non-null float64\n",
            "RPDE          240 non-null float64\n",
            "DFA           240 non-null float64\n",
            "PPE           240 non-null float64\n",
            "GNE           240 non-null float64\n",
            "MFCC0         240 non-null float64\n",
            "MFCC1         240 non-null float64\n",
            "MFCC2         240 non-null float64\n",
            "MFCC3         240 non-null float64\n",
            "MFCC4         240 non-null float64\n",
            "MFCC5         240 non-null float64\n",
            "MFCC6         240 non-null float64\n",
            "MFCC7         240 non-null float64\n",
            "MFCC8         240 non-null float64\n",
            "MFCC9         240 non-null float64\n",
            "MFCC10        240 non-null float64\n",
            "MFCC11        240 non-null float64\n",
            "MFCC12        240 non-null float64\n",
            "Delta0        240 non-null float64\n",
            "Delta1        240 non-null float64\n",
            "Delta2        240 non-null float64\n",
            "Delta3        240 non-null float64\n",
            "Delta4        240 non-null float64\n",
            "Delta5        240 non-null float64\n",
            "Delta6        240 non-null float64\n",
            "Delta7        240 non-null float64\n",
            "Delta8        240 non-null float64\n",
            "Delta9        240 non-null float64\n",
            "Delta10       240 non-null float64\n",
            "Delta11       240 non-null float64\n",
            "Delta12       240 non-null float64\n",
            "dtypes: float64(44), int64(3), object(1)\n",
            "memory usage: 90.1+ KB\n"
          ],
          "name": "stdout"
        }
      ]
    },
    {
      "cell_type": "markdown",
      "metadata": {
        "id": "0N_svXEEuo35",
        "colab_type": "text"
      },
      "source": [
        "## Importing functions"
      ]
    },
    {
      "cell_type": "code",
      "metadata": {
        "id": "y_ei4RjzY3q7",
        "colab_type": "code",
        "colab": {}
      },
      "source": [
        "    import numpy as np\n",
        "    import pandas as pd\n",
        "    import os, sys\n",
        "    from sklearn.preprocessing import MinMaxScaler\n",
        "    from xgboost import XGBClassifier\n",
        "    from sklearn.model_selection import train_test_split\n",
        "    from sklearn.metrics import accuracy_score"
      ],
      "execution_count": 0,
      "outputs": []
    },
    {
      "cell_type": "markdown",
      "metadata": {
        "id": "wjho8qdRu7oX",
        "colab_type": "text"
      },
      "source": [
        "## Data Pre-processing"
      ]
    },
    {
      "cell_type": "code",
      "metadata": {
        "id": "MgXTWZ_-acv8",
        "colab_type": "code",
        "colab": {}
      },
      "source": [
        "features=df.loc[:,df.columns!='Status'].values[:,1:]\n",
        "labels=df.loc[:,'Status'].values"
      ],
      "execution_count": 0,
      "outputs": []
    },
    {
      "cell_type": "code",
      "metadata": {
        "id": "StT0Ri1XaiMp",
        "colab_type": "code",
        "outputId": "34a3db29-33d4-4a3a-cc3b-55ad5365c87b",
        "colab": {
          "base_uri": "https://localhost:8080/",
          "height": 35
        }
      },
      "source": [
        "print(labels[labels==1].shape[0], labels[labels==0].shape[0])"
      ],
      "execution_count": 30,
      "outputs": [
        {
          "output_type": "stream",
          "text": [
            "120 120\n"
          ],
          "name": "stdout"
        }
      ]
    },
    {
      "cell_type": "markdown",
      "metadata": {
        "id": "9bW_jRChvGnI",
        "colab_type": "text"
      },
      "source": [
        "## Scale the Column Values"
      ]
    },
    {
      "cell_type": "code",
      "metadata": {
        "id": "kbDJ_cyCa3M4",
        "colab_type": "code",
        "colab": {}
      },
      "source": [
        "scaler=MinMaxScaler((-1,1))\n",
        "x=scaler.fit_transform(features)\n",
        "y=labels"
      ],
      "execution_count": 0,
      "outputs": []
    },
    {
      "cell_type": "markdown",
      "metadata": {
        "id": "zxgo40uAvPOM",
        "colab_type": "text"
      },
      "source": [
        "## Split the train and test data"
      ]
    },
    {
      "cell_type": "code",
      "metadata": {
        "id": "w1Dym7E2a8HO",
        "colab_type": "code",
        "colab": {}
      },
      "source": [
        "x_train,x_test,y_train,y_test=train_test_split(x, y, test_size=0.2, random_state=7)"
      ],
      "execution_count": 0,
      "outputs": []
    },
    {
      "cell_type": "code",
      "metadata": {
        "id": "iR-2s9RPdTxB",
        "colab_type": "code",
        "outputId": "27b282d5-ff83-4b39-eae0-13f43bd82152",
        "colab": {
          "base_uri": "https://localhost:8080/",
          "height": 35
        }
      },
      "source": [
        "y_test.shape"
      ],
      "execution_count": 33,
      "outputs": [
        {
          "output_type": "execute_result",
          "data": {
            "text/plain": [
              "(48,)"
            ]
          },
          "metadata": {
            "tags": []
          },
          "execution_count": 33
        }
      ]
    },
    {
      "cell_type": "code",
      "metadata": {
        "colab_type": "code",
        "outputId": "ec64c89f-993f-4fdf-a9d8-a1cb60c70dc3",
        "id": "oMsrcl9Fw1dO",
        "colab": {
          "base_uri": "https://localhost:8080/",
          "height": 35
        }
      },
      "source": [
        "y_train.shape"
      ],
      "execution_count": 34,
      "outputs": [
        {
          "output_type": "execute_result",
          "data": {
            "text/plain": [
              "(192,)"
            ]
          },
          "metadata": {
            "tags": []
          },
          "execution_count": 34
        }
      ]
    },
    {
      "cell_type": "markdown",
      "metadata": {
        "colab_type": "text",
        "id": "Z7PyPViMxf3b"
      },
      "source": [
        "# Logistic Regression - Model 1"
      ]
    },
    {
      "cell_type": "code",
      "metadata": {
        "id": "gbY6xeeoe7P8",
        "colab_type": "code",
        "colab": {}
      },
      "source": [
        "from sklearn.linear_model import LogisticRegression\n",
        "from sklearn import metrics"
      ],
      "execution_count": 0,
      "outputs": []
    },
    {
      "cell_type": "markdown",
      "metadata": {
        "id": "EweXh7YmwQIn",
        "colab_type": "text"
      },
      "source": [
        "##Fit the Model"
      ]
    },
    {
      "cell_type": "code",
      "metadata": {
        "id": "vF5UdEd9dU7w",
        "colab_type": "code",
        "outputId": "3257244d-2bea-4994-b558-1d2d73153536",
        "colab": {
          "base_uri": "https://localhost:8080/",
          "height": 164
        }
      },
      "source": [
        "logreg = LogisticRegression(max_iter=100,C=2.0)\n",
        "logreg.fit(x_train, y_train)"
      ],
      "execution_count": 36,
      "outputs": [
        {
          "output_type": "stream",
          "text": [
            "/usr/local/lib/python3.6/dist-packages/sklearn/linear_model/logistic.py:432: FutureWarning: Default solver will be changed to 'lbfgs' in 0.22. Specify a solver to silence this warning.\n",
            "  FutureWarning)\n"
          ],
          "name": "stderr"
        },
        {
          "output_type": "execute_result",
          "data": {
            "text/plain": [
              "LogisticRegression(C=2.0, class_weight=None, dual=False, fit_intercept=True,\n",
              "                   intercept_scaling=1, l1_ratio=None, max_iter=100,\n",
              "                   multi_class='warn', n_jobs=None, penalty='l2',\n",
              "                   random_state=None, solver='warn', tol=0.0001, verbose=0,\n",
              "                   warm_start=False)"
            ]
          },
          "metadata": {
            "tags": []
          },
          "execution_count": 36
        }
      ]
    },
    {
      "cell_type": "markdown",
      "metadata": {
        "id": "44Upugb7wVET",
        "colab_type": "text"
      },
      "source": [
        "## Predict and accuracy for the train data"
      ]
    },
    {
      "cell_type": "code",
      "metadata": {
        "id": "6OWOG8oAdUxR",
        "colab_type": "code",
        "outputId": "9007f5ef-f27c-43a6-b6e1-e323daa11f59",
        "colab": {
          "base_uri": "https://localhost:8080/",
          "height": 35
        }
      },
      "source": [
        "y_pred = logreg.predict(x_train)\n",
        "print('Accuracy of logistic regression classifier on train set: {:.2f}'.format(logreg.score(x_train, y_train)*100))"
      ],
      "execution_count": 37,
      "outputs": [
        {
          "output_type": "stream",
          "text": [
            "Accuracy of logistic regression classifier on train set: 86.46\n"
          ],
          "name": "stdout"
        }
      ]
    },
    {
      "cell_type": "markdown",
      "metadata": {
        "id": "Yp0b4dvOwdK7",
        "colab_type": "text"
      },
      "source": [
        ""
      ]
    },
    {
      "cell_type": "markdown",
      "metadata": {
        "id": "UQdKkKQpwf_u",
        "colab_type": "text"
      },
      "source": [
        "## Confusion matrix for train data"
      ]
    },
    {
      "cell_type": "code",
      "metadata": {
        "id": "hvebXTNqibOW",
        "colab_type": "code",
        "outputId": "e308b1fc-d1c7-46e3-d024-8757522e8cad",
        "colab": {
          "base_uri": "https://localhost:8080/",
          "height": 53
        }
      },
      "source": [
        "from sklearn.metrics import confusion_matrix\n",
        "cm = confusion_matrix(y_train, y_pred)\n",
        "print(cm)"
      ],
      "execution_count": 38,
      "outputs": [
        {
          "output_type": "stream",
          "text": [
            "[[81 13]\n",
            " [13 85]]\n"
          ],
          "name": "stdout"
        }
      ]
    },
    {
      "cell_type": "markdown",
      "metadata": {
        "id": "Lo7Pk3KJwe7d",
        "colab_type": "text"
      },
      "source": [
        "## Predict and accuracy for the test data"
      ]
    },
    {
      "cell_type": "code",
      "metadata": {
        "id": "vykmXRm_dU2K",
        "colab_type": "code",
        "outputId": "ce1633b5-a35e-49f8-ba03-efc0c8419d09",
        "colab": {
          "base_uri": "https://localhost:8080/",
          "height": 35
        }
      },
      "source": [
        "y_pred = logreg.predict(x_test)\n",
        "print('Accuracy of logistic regression classifier on test set: {:.2f}'.format(logreg.score(x_test, y_test)*100))"
      ],
      "execution_count": 39,
      "outputs": [
        {
          "output_type": "stream",
          "text": [
            "Accuracy of logistic regression classifier on test set: 77.08\n"
          ],
          "name": "stdout"
        }
      ]
    },
    {
      "cell_type": "markdown",
      "metadata": {
        "id": "nInCIgv1wm_F",
        "colab_type": "text"
      },
      "source": [
        "##Confusion matrix for test data"
      ]
    },
    {
      "cell_type": "code",
      "metadata": {
        "id": "qKX4UC_7igjG",
        "colab_type": "code",
        "colab": {
          "base_uri": "https://localhost:8080/",
          "height": 53
        },
        "outputId": "1827f426-d523-463a-e4f2-8d4d17e40c5d"
      },
      "source": [
        "from sklearn.metrics import confusion_matrix\n",
        "cm = confusion_matrix(y_test, y_pred)\n",
        "print(cm)"
      ],
      "execution_count": 40,
      "outputs": [
        {
          "output_type": "stream",
          "text": [
            "[[21  5]\n",
            " [ 6 16]]\n"
          ],
          "name": "stdout"
        }
      ]
    },
    {
      "cell_type": "markdown",
      "metadata": {
        "id": "wmLMBU6FvT3P",
        "colab_type": "text"
      },
      "source": [
        "# XGB Classifier - Model 2"
      ]
    },
    {
      "cell_type": "code",
      "metadata": {
        "id": "vuGg3CKjbA6V",
        "colab_type": "code",
        "outputId": "b73bb594-d370-471b-c83e-dfea01d42beb",
        "colab": {
          "base_uri": "https://localhost:8080/",
          "height": 144
        }
      },
      "source": [
        "#Train the model\n",
        "model=XGBClassifier()\n",
        "model.fit(x_train,y_train)"
      ],
      "execution_count": 41,
      "outputs": [
        {
          "output_type": "execute_result",
          "data": {
            "text/plain": [
              "XGBClassifier(base_score=0.5, booster='gbtree', colsample_bylevel=1,\n",
              "              colsample_bynode=1, colsample_bytree=1, gamma=0,\n",
              "              learning_rate=0.1, max_delta_step=0, max_depth=3,\n",
              "              min_child_weight=1, missing=None, n_estimators=100, n_jobs=1,\n",
              "              nthread=None, objective='binary:logistic', random_state=0,\n",
              "              reg_alpha=0, reg_lambda=1, scale_pos_weight=1, seed=None,\n",
              "              silent=None, subsample=1, verbosity=1)"
            ]
          },
          "metadata": {
            "tags": []
          },
          "execution_count": 41
        }
      ]
    },
    {
      "cell_type": "markdown",
      "metadata": {
        "id": "_EY39mHZvdze",
        "colab_type": "text"
      },
      "source": [
        "## Predict the train data"
      ]
    },
    {
      "cell_type": "code",
      "metadata": {
        "id": "0-6edJzHjQWU",
        "colab_type": "code",
        "outputId": "fa31b010-f2bd-48c5-9fca-8cf25c514a51",
        "colab": {
          "base_uri": "https://localhost:8080/",
          "height": 35
        }
      },
      "source": [
        "y_pred=model.predict(x_train)\n",
        "print(accuracy_score(y_train, y_pred)*100)"
      ],
      "execution_count": 42,
      "outputs": [
        {
          "output_type": "stream",
          "text": [
            "100.0\n"
          ],
          "name": "stdout"
        }
      ]
    },
    {
      "cell_type": "markdown",
      "metadata": {
        "id": "wynwPc1VvquU",
        "colab_type": "text"
      },
      "source": [
        "## Confusion matrix for train data"
      ]
    },
    {
      "cell_type": "code",
      "metadata": {
        "id": "GWv_sOWDkozl",
        "colab_type": "code",
        "outputId": "a356737d-8f24-4f6e-eb25-ad26fa5de8e9",
        "colab": {
          "base_uri": "https://localhost:8080/",
          "height": 53
        }
      },
      "source": [
        "from sklearn.metrics import confusion_matrix\n",
        "cm = confusion_matrix(y_train, y_pred)\n",
        "print(cm)"
      ],
      "execution_count": 43,
      "outputs": [
        {
          "output_type": "stream",
          "text": [
            "[[94  0]\n",
            " [ 0 98]]\n"
          ],
          "name": "stdout"
        }
      ]
    },
    {
      "cell_type": "markdown",
      "metadata": {
        "id": "-AQ-CbnvvZB1",
        "colab_type": "text"
      },
      "source": [
        "## Predict the test data"
      ]
    },
    {
      "cell_type": "code",
      "metadata": {
        "id": "NrqmW11ebH3o",
        "colab_type": "code",
        "outputId": "5903414f-febf-4a41-e0e0-4eb1919e808b",
        "colab": {
          "base_uri": "https://localhost:8080/",
          "height": 35
        }
      },
      "source": [
        "y_pred=model.predict(x_test)\n",
        "print(accuracy_score(y_test, y_pred)*100)"
      ],
      "execution_count": 44,
      "outputs": [
        {
          "output_type": "stream",
          "text": [
            "79.16666666666666\n"
          ],
          "name": "stdout"
        }
      ]
    },
    {
      "cell_type": "markdown",
      "metadata": {
        "id": "6s0g7T4JvgqC",
        "colab_type": "text"
      },
      "source": [
        "## Confusion Matrix for test data"
      ]
    },
    {
      "cell_type": "code",
      "metadata": {
        "id": "8QZvfHYui-Vv",
        "colab_type": "code",
        "outputId": "b1604063-6e55-413f-cada-7842bc6327b2",
        "colab": {
          "base_uri": "https://localhost:8080/",
          "height": 53
        }
      },
      "source": [
        "from sklearn.metrics import confusion_matrix\n",
        "cm = confusion_matrix(y_test, y_pred)\n",
        "print(cm)"
      ],
      "execution_count": 45,
      "outputs": [
        {
          "output_type": "stream",
          "text": [
            "[[23  3]\n",
            " [ 7 15]]\n"
          ],
          "name": "stdout"
        }
      ]
    },
    {
      "cell_type": "markdown",
      "metadata": {
        "id": "Tfhb6IYNvwvQ",
        "colab_type": "text"
      },
      "source": [
        "##Train the model with tuning"
      ]
    },
    {
      "cell_type": "code",
      "metadata": {
        "id": "4aCURQ6nbZLY",
        "colab_type": "code",
        "colab": {
          "base_uri": "https://localhost:8080/",
          "height": 1000
        },
        "outputId": "06bc5194-0736-4efa-b1dd-635adfee1557"
      },
      "source": [
        "model=XGBClassifier(learning_rate=0.1,max_depth =4, verbosity=2)\n",
        "model.fit(x_train,y_train)"
      ],
      "execution_count": 46,
      "outputs": [
        {
          "output_type": "stream",
          "text": [
            "[16:24:26] INFO: /workspace/src/tree/updater_prune.cc:74: tree pruning end, 1 roots, 16 extra nodes, 0 pruned nodes, max_depth=4\n",
            "[16:24:26] INFO: /workspace/src/tree/updater_prune.cc:74: tree pruning end, 1 roots, 14 extra nodes, 0 pruned nodes, max_depth=4\n",
            "[16:24:26] INFO: /workspace/src/tree/updater_prune.cc:74: tree pruning end, 1 roots, 14 extra nodes, 0 pruned nodes, max_depth=4\n",
            "[16:24:26] INFO: /workspace/src/tree/updater_prune.cc:74: tree pruning end, 1 roots, 14 extra nodes, 0 pruned nodes, max_depth=4\n",
            "[16:24:26] INFO: /workspace/src/tree/updater_prune.cc:74: tree pruning end, 1 roots, 16 extra nodes, 0 pruned nodes, max_depth=4\n",
            "[16:24:26] INFO: /workspace/src/tree/updater_prune.cc:74: tree pruning end, 1 roots, 16 extra nodes, 0 pruned nodes, max_depth=4\n",
            "[16:24:26] INFO: /workspace/src/tree/updater_prune.cc:74: tree pruning end, 1 roots, 14 extra nodes, 0 pruned nodes, max_depth=4\n",
            "[16:24:26] INFO: /workspace/src/tree/updater_prune.cc:74: tree pruning end, 1 roots, 14 extra nodes, 0 pruned nodes, max_depth=4\n",
            "[16:24:26] INFO: /workspace/src/tree/updater_prune.cc:74: tree pruning end, 1 roots, 20 extra nodes, 0 pruned nodes, max_depth=4\n",
            "[16:24:26] INFO: /workspace/src/tree/updater_prune.cc:74: tree pruning end, 1 roots, 18 extra nodes, 0 pruned nodes, max_depth=4\n",
            "[16:24:26] INFO: /workspace/src/tree/updater_prune.cc:74: tree pruning end, 1 roots, 16 extra nodes, 0 pruned nodes, max_depth=4\n",
            "[16:24:26] INFO: /workspace/src/tree/updater_prune.cc:74: tree pruning end, 1 roots, 16 extra nodes, 0 pruned nodes, max_depth=4\n",
            "[16:24:26] INFO: /workspace/src/tree/updater_prune.cc:74: tree pruning end, 1 roots, 20 extra nodes, 0 pruned nodes, max_depth=4\n",
            "[16:24:26] INFO: /workspace/src/tree/updater_prune.cc:74: tree pruning end, 1 roots, 20 extra nodes, 0 pruned nodes, max_depth=4\n",
            "[16:24:26] INFO: /workspace/src/tree/updater_prune.cc:74: tree pruning end, 1 roots, 22 extra nodes, 0 pruned nodes, max_depth=4\n",
            "[16:24:26] INFO: /workspace/src/tree/updater_prune.cc:74: tree pruning end, 1 roots, 14 extra nodes, 0 pruned nodes, max_depth=4\n",
            "[16:24:26] INFO: /workspace/src/tree/updater_prune.cc:74: tree pruning end, 1 roots, 18 extra nodes, 0 pruned nodes, max_depth=4\n",
            "[16:24:26] INFO: /workspace/src/tree/updater_prune.cc:74: tree pruning end, 1 roots, 14 extra nodes, 0 pruned nodes, max_depth=4\n",
            "[16:24:26] INFO: /workspace/src/tree/updater_prune.cc:74: tree pruning end, 1 roots, 14 extra nodes, 0 pruned nodes, max_depth=4\n",
            "[16:24:26] INFO: /workspace/src/tree/updater_prune.cc:74: tree pruning end, 1 roots, 14 extra nodes, 0 pruned nodes, max_depth=4\n",
            "[16:24:26] INFO: /workspace/src/tree/updater_prune.cc:74: tree pruning end, 1 roots, 22 extra nodes, 0 pruned nodes, max_depth=4\n",
            "[16:24:26] INFO: /workspace/src/tree/updater_prune.cc:74: tree pruning end, 1 roots, 18 extra nodes, 0 pruned nodes, max_depth=4\n",
            "[16:24:26] INFO: /workspace/src/tree/updater_prune.cc:74: tree pruning end, 1 roots, 14 extra nodes, 0 pruned nodes, max_depth=4\n",
            "[16:24:26] INFO: /workspace/src/tree/updater_prune.cc:74: tree pruning end, 1 roots, 14 extra nodes, 0 pruned nodes, max_depth=4\n",
            "[16:24:26] INFO: /workspace/src/tree/updater_prune.cc:74: tree pruning end, 1 roots, 14 extra nodes, 0 pruned nodes, max_depth=4\n",
            "[16:24:26] INFO: /workspace/src/tree/updater_prune.cc:74: tree pruning end, 1 roots, 18 extra nodes, 0 pruned nodes, max_depth=4\n",
            "[16:24:26] INFO: /workspace/src/tree/updater_prune.cc:74: tree pruning end, 1 roots, 16 extra nodes, 0 pruned nodes, max_depth=4\n",
            "[16:24:26] INFO: /workspace/src/tree/updater_prune.cc:74: tree pruning end, 1 roots, 14 extra nodes, 0 pruned nodes, max_depth=4\n",
            "[16:24:26] INFO: /workspace/src/tree/updater_prune.cc:74: tree pruning end, 1 roots, 14 extra nodes, 0 pruned nodes, max_depth=4\n",
            "[16:24:26] INFO: /workspace/src/tree/updater_prune.cc:74: tree pruning end, 1 roots, 14 extra nodes, 0 pruned nodes, max_depth=4\n",
            "[16:24:26] INFO: /workspace/src/tree/updater_prune.cc:74: tree pruning end, 1 roots, 16 extra nodes, 0 pruned nodes, max_depth=4\n",
            "[16:24:26] INFO: /workspace/src/tree/updater_prune.cc:74: tree pruning end, 1 roots, 14 extra nodes, 0 pruned nodes, max_depth=4\n",
            "[16:24:26] INFO: /workspace/src/tree/updater_prune.cc:74: tree pruning end, 1 roots, 14 extra nodes, 0 pruned nodes, max_depth=4\n",
            "[16:24:26] INFO: /workspace/src/tree/updater_prune.cc:74: tree pruning end, 1 roots, 18 extra nodes, 0 pruned nodes, max_depth=4\n",
            "[16:24:26] INFO: /workspace/src/tree/updater_prune.cc:74: tree pruning end, 1 roots, 12 extra nodes, 0 pruned nodes, max_depth=4\n",
            "[16:24:26] INFO: /workspace/src/tree/updater_prune.cc:74: tree pruning end, 1 roots, 16 extra nodes, 0 pruned nodes, max_depth=4\n",
            "[16:24:26] INFO: /workspace/src/tree/updater_prune.cc:74: tree pruning end, 1 roots, 8 extra nodes, 0 pruned nodes, max_depth=4\n",
            "[16:24:26] INFO: /workspace/src/tree/updater_prune.cc:74: tree pruning end, 1 roots, 14 extra nodes, 0 pruned nodes, max_depth=4\n",
            "[16:24:26] INFO: /workspace/src/tree/updater_prune.cc:74: tree pruning end, 1 roots, 8 extra nodes, 0 pruned nodes, max_depth=4\n",
            "[16:24:26] INFO: /workspace/src/tree/updater_prune.cc:74: tree pruning end, 1 roots, 14 extra nodes, 0 pruned nodes, max_depth=4\n",
            "[16:24:26] INFO: /workspace/src/tree/updater_prune.cc:74: tree pruning end, 1 roots, 10 extra nodes, 0 pruned nodes, max_depth=4\n",
            "[16:24:26] INFO: /workspace/src/tree/updater_prune.cc:74: tree pruning end, 1 roots, 10 extra nodes, 0 pruned nodes, max_depth=4\n",
            "[16:24:26] INFO: /workspace/src/tree/updater_prune.cc:74: tree pruning end, 1 roots, 14 extra nodes, 0 pruned nodes, max_depth=4\n",
            "[16:24:26] INFO: /workspace/src/tree/updater_prune.cc:74: tree pruning end, 1 roots, 12 extra nodes, 0 pruned nodes, max_depth=4\n",
            "[16:24:26] INFO: /workspace/src/tree/updater_prune.cc:74: tree pruning end, 1 roots, 12 extra nodes, 0 pruned nodes, max_depth=4\n",
            "[16:24:26] INFO: /workspace/src/tree/updater_prune.cc:74: tree pruning end, 1 roots, 12 extra nodes, 0 pruned nodes, max_depth=4\n",
            "[16:24:26] INFO: /workspace/src/tree/updater_prune.cc:74: tree pruning end, 1 roots, 12 extra nodes, 0 pruned nodes, max_depth=4\n",
            "[16:24:26] INFO: /workspace/src/tree/updater_prune.cc:74: tree pruning end, 1 roots, 14 extra nodes, 0 pruned nodes, max_depth=4\n",
            "[16:24:26] INFO: /workspace/src/tree/updater_prune.cc:74: tree pruning end, 1 roots, 12 extra nodes, 0 pruned nodes, max_depth=4\n",
            "[16:24:26] INFO: /workspace/src/tree/updater_prune.cc:74: tree pruning end, 1 roots, 10 extra nodes, 0 pruned nodes, max_depth=4\n",
            "[16:24:26] INFO: /workspace/src/tree/updater_prune.cc:74: tree pruning end, 1 roots, 10 extra nodes, 0 pruned nodes, max_depth=4\n",
            "[16:24:26] INFO: /workspace/src/tree/updater_prune.cc:74: tree pruning end, 1 roots, 10 extra nodes, 0 pruned nodes, max_depth=4\n",
            "[16:24:26] INFO: /workspace/src/tree/updater_prune.cc:74: tree pruning end, 1 roots, 14 extra nodes, 0 pruned nodes, max_depth=4\n",
            "[16:24:26] INFO: /workspace/src/tree/updater_prune.cc:74: tree pruning end, 1 roots, 14 extra nodes, 0 pruned nodes, max_depth=4\n",
            "[16:24:26] INFO: /workspace/src/tree/updater_prune.cc:74: tree pruning end, 1 roots, 12 extra nodes, 0 pruned nodes, max_depth=4\n",
            "[16:24:26] INFO: /workspace/src/tree/updater_prune.cc:74: tree pruning end, 1 roots, 14 extra nodes, 0 pruned nodes, max_depth=4\n",
            "[16:24:26] INFO: /workspace/src/tree/updater_prune.cc:74: tree pruning end, 1 roots, 10 extra nodes, 0 pruned nodes, max_depth=4\n",
            "[16:24:26] INFO: /workspace/src/tree/updater_prune.cc:74: tree pruning end, 1 roots, 10 extra nodes, 0 pruned nodes, max_depth=4\n",
            "[16:24:26] INFO: /workspace/src/tree/updater_prune.cc:74: tree pruning end, 1 roots, 10 extra nodes, 0 pruned nodes, max_depth=4\n",
            "[16:24:26] INFO: /workspace/src/tree/updater_prune.cc:74: tree pruning end, 1 roots, 8 extra nodes, 0 pruned nodes, max_depth=4\n",
            "[16:24:26] INFO: /workspace/src/tree/updater_prune.cc:74: tree pruning end, 1 roots, 12 extra nodes, 0 pruned nodes, max_depth=4\n",
            "[16:24:26] INFO: /workspace/src/tree/updater_prune.cc:74: tree pruning end, 1 roots, 12 extra nodes, 0 pruned nodes, max_depth=4\n",
            "[16:24:26] INFO: /workspace/src/tree/updater_prune.cc:74: tree pruning end, 1 roots, 8 extra nodes, 0 pruned nodes, max_depth=4\n",
            "[16:24:26] INFO: /workspace/src/tree/updater_prune.cc:74: tree pruning end, 1 roots, 10 extra nodes, 0 pruned nodes, max_depth=4\n",
            "[16:24:26] INFO: /workspace/src/tree/updater_prune.cc:74: tree pruning end, 1 roots, 10 extra nodes, 0 pruned nodes, max_depth=4\n",
            "[16:24:26] INFO: /workspace/src/tree/updater_prune.cc:74: tree pruning end, 1 roots, 10 extra nodes, 0 pruned nodes, max_depth=4\n",
            "[16:24:26] INFO: /workspace/src/tree/updater_prune.cc:74: tree pruning end, 1 roots, 12 extra nodes, 0 pruned nodes, max_depth=4\n",
            "[16:24:26] INFO: /workspace/src/tree/updater_prune.cc:74: tree pruning end, 1 roots, 10 extra nodes, 0 pruned nodes, max_depth=4\n",
            "[16:24:26] INFO: /workspace/src/tree/updater_prune.cc:74: tree pruning end, 1 roots, 10 extra nodes, 0 pruned nodes, max_depth=4\n",
            "[16:24:26] INFO: /workspace/src/tree/updater_prune.cc:74: tree pruning end, 1 roots, 8 extra nodes, 0 pruned nodes, max_depth=4\n",
            "[16:24:26] INFO: /workspace/src/tree/updater_prune.cc:74: tree pruning end, 1 roots, 10 extra nodes, 0 pruned nodes, max_depth=4\n",
            "[16:24:26] INFO: /workspace/src/tree/updater_prune.cc:74: tree pruning end, 1 roots, 14 extra nodes, 0 pruned nodes, max_depth=4\n",
            "[16:24:26] INFO: /workspace/src/tree/updater_prune.cc:74: tree pruning end, 1 roots, 10 extra nodes, 0 pruned nodes, max_depth=4\n",
            "[16:24:26] INFO: /workspace/src/tree/updater_prune.cc:74: tree pruning end, 1 roots, 10 extra nodes, 0 pruned nodes, max_depth=4\n",
            "[16:24:26] INFO: /workspace/src/tree/updater_prune.cc:74: tree pruning end, 1 roots, 10 extra nodes, 0 pruned nodes, max_depth=4\n",
            "[16:24:26] INFO: /workspace/src/tree/updater_prune.cc:74: tree pruning end, 1 roots, 10 extra nodes, 0 pruned nodes, max_depth=4\n",
            "[16:24:26] INFO: /workspace/src/tree/updater_prune.cc:74: tree pruning end, 1 roots, 10 extra nodes, 0 pruned nodes, max_depth=4\n",
            "[16:24:26] INFO: /workspace/src/tree/updater_prune.cc:74: tree pruning end, 1 roots, 12 extra nodes, 0 pruned nodes, max_depth=4\n",
            "[16:24:26] INFO: /workspace/src/tree/updater_prune.cc:74: tree pruning end, 1 roots, 12 extra nodes, 0 pruned nodes, max_depth=4\n",
            "[16:24:26] INFO: /workspace/src/tree/updater_prune.cc:74: tree pruning end, 1 roots, 8 extra nodes, 0 pruned nodes, max_depth=4\n",
            "[16:24:26] INFO: /workspace/src/tree/updater_prune.cc:74: tree pruning end, 1 roots, 10 extra nodes, 0 pruned nodes, max_depth=4\n",
            "[16:24:26] INFO: /workspace/src/tree/updater_prune.cc:74: tree pruning end, 1 roots, 12 extra nodes, 0 pruned nodes, max_depth=4\n",
            "[16:24:26] INFO: /workspace/src/tree/updater_prune.cc:74: tree pruning end, 1 roots, 12 extra nodes, 0 pruned nodes, max_depth=4\n",
            "[16:24:26] INFO: /workspace/src/tree/updater_prune.cc:74: tree pruning end, 1 roots, 8 extra nodes, 0 pruned nodes, max_depth=4\n",
            "[16:24:26] INFO: /workspace/src/tree/updater_prune.cc:74: tree pruning end, 1 roots, 10 extra nodes, 0 pruned nodes, max_depth=4\n",
            "[16:24:26] INFO: /workspace/src/tree/updater_prune.cc:74: tree pruning end, 1 roots, 8 extra nodes, 0 pruned nodes, max_depth=4\n",
            "[16:24:26] INFO: /workspace/src/tree/updater_prune.cc:74: tree pruning end, 1 roots, 8 extra nodes, 0 pruned nodes, max_depth=4\n",
            "[16:24:26] INFO: /workspace/src/tree/updater_prune.cc:74: tree pruning end, 1 roots, 10 extra nodes, 0 pruned nodes, max_depth=4\n",
            "[16:24:26] INFO: /workspace/src/tree/updater_prune.cc:74: tree pruning end, 1 roots, 10 extra nodes, 0 pruned nodes, max_depth=3\n",
            "[16:24:26] INFO: /workspace/src/tree/updater_prune.cc:74: tree pruning end, 1 roots, 10 extra nodes, 0 pruned nodes, max_depth=4\n",
            "[16:24:26] INFO: /workspace/src/tree/updater_prune.cc:74: tree pruning end, 1 roots, 10 extra nodes, 0 pruned nodes, max_depth=4\n",
            "[16:24:26] INFO: /workspace/src/tree/updater_prune.cc:74: tree pruning end, 1 roots, 10 extra nodes, 0 pruned nodes, max_depth=4\n",
            "[16:24:26] INFO: /workspace/src/tree/updater_prune.cc:74: tree pruning end, 1 roots, 10 extra nodes, 0 pruned nodes, max_depth=4\n",
            "[16:24:26] INFO: /workspace/src/tree/updater_prune.cc:74: tree pruning end, 1 roots, 10 extra nodes, 0 pruned nodes, max_depth=4\n",
            "[16:24:26] INFO: /workspace/src/tree/updater_prune.cc:74: tree pruning end, 1 roots, 10 extra nodes, 0 pruned nodes, max_depth=4\n",
            "[16:24:26] INFO: /workspace/src/tree/updater_prune.cc:74: tree pruning end, 1 roots, 8 extra nodes, 0 pruned nodes, max_depth=4\n",
            "[16:24:26] INFO: /workspace/src/tree/updater_prune.cc:74: tree pruning end, 1 roots, 8 extra nodes, 0 pruned nodes, max_depth=4\n",
            "[16:24:26] INFO: /workspace/src/tree/updater_prune.cc:74: tree pruning end, 1 roots, 8 extra nodes, 0 pruned nodes, max_depth=4\n",
            "[16:24:26] INFO: /workspace/src/tree/updater_prune.cc:74: tree pruning end, 1 roots, 8 extra nodes, 0 pruned nodes, max_depth=3\n",
            "[16:24:26] INFO: /workspace/src/tree/updater_prune.cc:74: tree pruning end, 1 roots, 8 extra nodes, 0 pruned nodes, max_depth=4\n"
          ],
          "name": "stdout"
        },
        {
          "output_type": "execute_result",
          "data": {
            "text/plain": [
              "XGBClassifier(base_score=0.5, booster='gbtree', colsample_bylevel=1,\n",
              "              colsample_bynode=1, colsample_bytree=1, gamma=0,\n",
              "              learning_rate=0.1, max_delta_step=0, max_depth=4,\n",
              "              min_child_weight=1, missing=None, n_estimators=100, n_jobs=1,\n",
              "              nthread=None, objective='binary:logistic', random_state=0,\n",
              "              reg_alpha=0, reg_lambda=1, scale_pos_weight=1, seed=None,\n",
              "              silent=None, subsample=1, verbosity=2)"
            ]
          },
          "metadata": {
            "tags": []
          },
          "execution_count": 46
        }
      ]
    },
    {
      "cell_type": "code",
      "metadata": {
        "id": "m6ZMvb0-bfy6",
        "colab_type": "code",
        "outputId": "bf198ef2-869b-4c94-9035-0827243c84b4",
        "colab": {
          "base_uri": "https://localhost:8080/",
          "height": 35
        }
      },
      "source": [
        "y_pred=model.predict(x_test)\n",
        "print(accuracy_score(y_test, y_pred)*100)"
      ],
      "execution_count": 47,
      "outputs": [
        {
          "output_type": "stream",
          "text": [
            "85.41666666666666\n"
          ],
          "name": "stdout"
        }
      ]
    },
    {
      "cell_type": "markdown",
      "metadata": {
        "id": "dhxIUvEJywE1",
        "colab_type": "text"
      },
      "source": [
        "### Logistic Regression accuaracy : 77.08 %\n",
        "### XGBoost accuracy : 85.41 %"
      ]
    }
  ]
}